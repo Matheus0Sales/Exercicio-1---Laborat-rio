{
 "cells": [
  {
   "cell_type": "code",
   "execution_count": 3,
   "id": "3e5f6e14-c04b-42e3-860d-0ced6324834c",
   "metadata": {
    "colab": {
     "base_uri": "https://localhost:8080/",
     "height": 356
    },
    "executionInfo": {
     "elapsed": 34,
     "status": "error",
     "timestamp": 1741881574081,
     "user": {
      "displayName": "Matheus Sales",
      "userId": "07329252468495152308"
     },
     "user_tz": 180
    },
    "id": "3e5f6e14-c04b-42e3-860d-0ced6324834c",
    "outputId": "a698ff5c-c05f-4b8e-b065-6e5b9796ec25",
    "tags": []
   },
   "outputs": [
    {
     "data": {
      "text/html": [
       "<div>\n",
       "<style scoped>\n",
       "    .dataframe tbody tr th:only-of-type {\n",
       "        vertical-align: middle;\n",
       "    }\n",
       "\n",
       "    .dataframe tbody tr th {\n",
       "        vertical-align: top;\n",
       "    }\n",
       "\n",
       "    .dataframe thead th {\n",
       "        text-align: right;\n",
       "    }\n",
       "</style>\n",
       "<table border=\"1\" class=\"dataframe\">\n",
       "  <thead>\n",
       "    <tr style=\"text-align: right;\">\n",
       "      <th></th>\n",
       "      <th>Id</th>\n",
       "      <th>Bloco</th>\n",
       "      <th>Andar</th>\n",
       "      <th>Final</th>\n",
       "      <th>Sala</th>\n",
       "      <th>Cozinha</th>\n",
       "      <th>Banheiro</th>\n",
       "      <th>Dorm</th>\n",
       "      <th>Rachadura</th>\n",
       "      <th>Infiltr</th>\n",
       "    </tr>\n",
       "  </thead>\n",
       "  <tbody>\n",
       "    <tr>\n",
       "      <th>0</th>\n",
       "      <td>1</td>\n",
       "      <td>A</td>\n",
       "      <td>1</td>\n",
       "      <td>1</td>\n",
       "      <td>27.8</td>\n",
       "      <td>7.9</td>\n",
       "      <td>5.0</td>\n",
       "      <td>11.6</td>\n",
       "      <td>ausente</td>\n",
       "      <td>ausente</td>\n",
       "    </tr>\n",
       "    <tr>\n",
       "      <th>1</th>\n",
       "      <td>2</td>\n",
       "      <td>A</td>\n",
       "      <td>1</td>\n",
       "      <td>2</td>\n",
       "      <td>28.3</td>\n",
       "      <td>7.3</td>\n",
       "      <td>5.4</td>\n",
       "      <td>13.1</td>\n",
       "      <td>ausente</td>\n",
       "      <td>ausente</td>\n",
       "    </tr>\n",
       "    <tr>\n",
       "      <th>2</th>\n",
       "      <td>3</td>\n",
       "      <td>A</td>\n",
       "      <td>1</td>\n",
       "      <td>3</td>\n",
       "      <td>27.1</td>\n",
       "      <td>7.1</td>\n",
       "      <td>5.0</td>\n",
       "      <td>14.9</td>\n",
       "      <td>ausente</td>\n",
       "      <td>ausente</td>\n",
       "    </tr>\n",
       "    <tr>\n",
       "      <th>3</th>\n",
       "      <td>4</td>\n",
       "      <td>A</td>\n",
       "      <td>1</td>\n",
       "      <td>4</td>\n",
       "      <td>26.5</td>\n",
       "      <td>8.4</td>\n",
       "      <td>3.9</td>\n",
       "      <td>12.4</td>\n",
       "      <td>presente</td>\n",
       "      <td>presente</td>\n",
       "    </tr>\n",
       "    <tr>\n",
       "      <th>4</th>\n",
       "      <td>5</td>\n",
       "      <td>A</td>\n",
       "      <td>2</td>\n",
       "      <td>1</td>\n",
       "      <td>27.7</td>\n",
       "      <td>7.6</td>\n",
       "      <td>4.7</td>\n",
       "      <td>12.1</td>\n",
       "      <td>ausente</td>\n",
       "      <td>ausente</td>\n",
       "    </tr>\n",
       "    <tr>\n",
       "      <th>...</th>\n",
       "      <td>...</td>\n",
       "      <td>...</td>\n",
       "      <td>...</td>\n",
       "      <td>...</td>\n",
       "      <td>...</td>\n",
       "      <td>...</td>\n",
       "      <td>...</td>\n",
       "      <td>...</td>\n",
       "      <td>...</td>\n",
       "      <td>...</td>\n",
       "    </tr>\n",
       "    <tr>\n",
       "      <th>147</th>\n",
       "      <td>148</td>\n",
       "      <td>B</td>\n",
       "      <td>18</td>\n",
       "      <td>4</td>\n",
       "      <td>23.5</td>\n",
       "      <td>7.4</td>\n",
       "      <td>4.3</td>\n",
       "      <td>12.2</td>\n",
       "      <td>ausente</td>\n",
       "      <td>presente</td>\n",
       "    </tr>\n",
       "    <tr>\n",
       "      <th>148</th>\n",
       "      <td>149</td>\n",
       "      <td>B</td>\n",
       "      <td>19</td>\n",
       "      <td>1</td>\n",
       "      <td>24.1</td>\n",
       "      <td>8.3</td>\n",
       "      <td>4.8</td>\n",
       "      <td>12.9</td>\n",
       "      <td>ausente</td>\n",
       "      <td>ausente</td>\n",
       "    </tr>\n",
       "    <tr>\n",
       "      <th>149</th>\n",
       "      <td>150</td>\n",
       "      <td>B</td>\n",
       "      <td>19</td>\n",
       "      <td>2</td>\n",
       "      <td>24.1</td>\n",
       "      <td>8.0</td>\n",
       "      <td>4.5</td>\n",
       "      <td>10.9</td>\n",
       "      <td>ausente</td>\n",
       "      <td>ausente</td>\n",
       "    </tr>\n",
       "    <tr>\n",
       "      <th>150</th>\n",
       "      <td>151</td>\n",
       "      <td>B</td>\n",
       "      <td>19</td>\n",
       "      <td>3</td>\n",
       "      <td>23.0</td>\n",
       "      <td>8.5</td>\n",
       "      <td>4.3</td>\n",
       "      <td>11.7</td>\n",
       "      <td>ausente</td>\n",
       "      <td>presente</td>\n",
       "    </tr>\n",
       "    <tr>\n",
       "      <th>151</th>\n",
       "      <td>152</td>\n",
       "      <td>B</td>\n",
       "      <td>19</td>\n",
       "      <td>4</td>\n",
       "      <td>22.7</td>\n",
       "      <td>7.8</td>\n",
       "      <td>4.2</td>\n",
       "      <td>15.7</td>\n",
       "      <td>ausente</td>\n",
       "      <td>presente</td>\n",
       "    </tr>\n",
       "  </tbody>\n",
       "</table>\n",
       "<p>152 rows × 10 columns</p>\n",
       "</div>"
      ],
      "text/plain": [
       "      Id Bloco  Andar  Final  Sala  Cozinha  Banheiro  Dorm Rachadura  \\\n",
       "0      1     A      1      1  27.8      7.9       5.0  11.6   ausente   \n",
       "1      2     A      1      2  28.3      7.3       5.4  13.1   ausente   \n",
       "2      3     A      1      3  27.1      7.1       5.0  14.9   ausente   \n",
       "3      4     A      1      4  26.5      8.4       3.9  12.4  presente   \n",
       "4      5     A      2      1  27.7      7.6       4.7  12.1   ausente   \n",
       "..   ...   ...    ...    ...   ...      ...       ...   ...       ...   \n",
       "147  148     B     18      4  23.5      7.4       4.3  12.2   ausente   \n",
       "148  149     B     19      1  24.1      8.3       4.8  12.9   ausente   \n",
       "149  150     B     19      2  24.1      8.0       4.5  10.9   ausente   \n",
       "150  151     B     19      3  23.0      8.5       4.3  11.7   ausente   \n",
       "151  152     B     19      4  22.7      7.8       4.2  15.7   ausente   \n",
       "\n",
       "      Infiltr  \n",
       "0     ausente  \n",
       "1     ausente  \n",
       "2     ausente  \n",
       "3    presente  \n",
       "4     ausente  \n",
       "..        ...  \n",
       "147  presente  \n",
       "148   ausente  \n",
       "149   ausente  \n",
       "150  presente  \n",
       "151  presente  \n",
       "\n",
       "[152 rows x 10 columns]"
      ]
     },
     "execution_count": 3,
     "metadata": {},
     "output_type": "execute_result"
    }
   ],
   "source": [
    "import pandas as pd\n",
    "areas = pd.read_csv(\"C:/Users/20221enpro0022/Downloads/areas.csv\", sep = \";\", decimal = \",\")\n",
    "\n",
    "areas\n",
    "\n"
   ]
  },
  {
   "cell_type": "markdown",
   "id": "83183405-336a-4576-8767-d23612e9468d",
   "metadata": {
    "id": "83183405-336a-4576-8767-d23612e9468d"
   },
   "source": [
    "# 1) Vamos começar explorando o tipo de empreendimento de que tratam os dados. Para isso, verifique:"
   ]
  },
  {
   "cell_type": "markdown",
   "id": "36c73fb1-dfeb-48df-a2b5-b573fa1969a7",
   "metadata": {
    "id": "36c73fb1-dfeb-48df-a2b5-b573fa1969a7"
   },
   "source": [
    "## a) Qual o número total de apartamentos no empreendimento?\n"
   ]
  },
  {
   "cell_type": "code",
   "execution_count": 4,
   "id": "6f94ab26-e03c-476f-bc44-f7e0ed5f20b5",
   "metadata": {
    "colab": {
     "base_uri": "https://localhost:8080/",
     "height": 141
    },
    "executionInfo": {
     "elapsed": 85,
     "status": "error",
     "timestamp": 1741881347177,
     "user": {
      "displayName": "Matheus Sales",
      "userId": "07329252468495152308"
     },
     "user_tz": 180
    },
    "id": "6f94ab26-e03c-476f-bc44-f7e0ed5f20b5",
    "outputId": "36ecc5b6-41fd-4e0c-81a3-a5f2bd71b66f",
    "tags": []
   },
   "outputs": [
    {
     "data": {
      "text/plain": [
       "152"
      ]
     },
     "execution_count": 4,
     "metadata": {},
     "output_type": "execute_result"
    }
   ],
   "source": [
    "len(areas)"
   ]
  },
  {
   "cell_type": "markdown",
   "id": "a3613671-d4d3-44da-b324-9665b359004a",
   "metadata": {
    "id": "a3613671-d4d3-44da-b324-9665b359004a"
   },
   "source": [
    "## b) Quantos apartamentos existem por bloco?"
   ]
  },
  {
   "cell_type": "code",
   "execution_count": 5,
   "id": "a74843df-b8e2-4051-94bf-4944e7b76738",
   "metadata": {
    "id": "a74843df-b8e2-4051-94bf-4944e7b76738",
    "outputId": "e0b46881-17b7-4005-ef16-6071a9c2af94",
    "tags": []
   },
   "outputs": [
    {
     "data": {
      "text/plain": [
       "Bloco\n",
       "A    76\n",
       "B    76\n",
       "Name: count, dtype: int64"
      ]
     },
     "execution_count": 5,
     "metadata": {},
     "output_type": "execute_result"
    }
   ],
   "source": [
    "tabela_blocos = areas [\"Bloco\"]. value_counts()\n",
    "tabela_blocos"
   ]
  },
  {
   "cell_type": "markdown",
   "id": "3296f17e-c981-4c57-a169-4834c2de792e",
   "metadata": {
    "id": "3296f17e-c981-4c57-a169-4834c2de792e"
   },
   "source": [
    "## c) Quantos apartamentos existem por andar?"
   ]
  },
  {
   "cell_type": "code",
   "execution_count": 6,
   "id": "df44b025-76bc-416c-84c7-5098e124a99d",
   "metadata": {
    "id": "df44b025-76bc-416c-84c7-5098e124a99d",
    "outputId": "63f03838-b1e1-4f68-9daa-5cda8807b9bb",
    "tags": []
   },
   "outputs": [
    {
     "data": {
      "text/plain": [
       "Andar\n",
       "1     8\n",
       "11    8\n",
       "18    8\n",
       "17    8\n",
       "16    8\n",
       "15    8\n",
       "14    8\n",
       "13    8\n",
       "12    8\n",
       "10    8\n",
       "2     8\n",
       "9     8\n",
       "8     8\n",
       "7     8\n",
       "6     8\n",
       "5     8\n",
       "4     8\n",
       "3     8\n",
       "19    8\n",
       "Name: count, dtype: int64"
      ]
     },
     "execution_count": 6,
     "metadata": {},
     "output_type": "execute_result"
    }
   ],
   "source": [
    "tabela_andar = areas [\"Andar\"]. value_counts()\n",
    "tabela_andar"
   ]
  },
  {
   "cell_type": "markdown",
   "id": "4fd23584-7739-40c8-a65b-cf4d5dccec65",
   "metadata": {
    "id": "4fd23584-7739-40c8-a65b-cf4d5dccec65",
    "tags": []
   },
   "source": [
    "# 2) Existe a suspeita de que os apartamentos tenham sido construídos com metragens diferentes.\n",
    "# O arquivo de dados traz as áreas de cada cômodo em separado. Acrescente uma nova coluna\n",
    "# calculando a área útil total de cada apartamento."
   ]
  },
  {
   "cell_type": "code",
   "execution_count": 7,
   "id": "f6689e59-4c65-4dec-9fb5-37a28b90b79e",
   "metadata": {
    "id": "f6689e59-4c65-4dec-9fb5-37a28b90b79e",
    "outputId": "09e60379-9ee3-488a-9d8e-0bee2b818a11",
    "tags": []
   },
   "outputs": [
    {
     "data": {
      "text/html": [
       "<div>\n",
       "<style scoped>\n",
       "    .dataframe tbody tr th:only-of-type {\n",
       "        vertical-align: middle;\n",
       "    }\n",
       "\n",
       "    .dataframe tbody tr th {\n",
       "        vertical-align: top;\n",
       "    }\n",
       "\n",
       "    .dataframe thead th {\n",
       "        text-align: right;\n",
       "    }\n",
       "</style>\n",
       "<table border=\"1\" class=\"dataframe\">\n",
       "  <thead>\n",
       "    <tr style=\"text-align: right;\">\n",
       "      <th></th>\n",
       "      <th>Id</th>\n",
       "      <th>Bloco</th>\n",
       "      <th>Andar</th>\n",
       "      <th>Final</th>\n",
       "      <th>Sala</th>\n",
       "      <th>Cozinha</th>\n",
       "      <th>Banheiro</th>\n",
       "      <th>Dorm</th>\n",
       "      <th>Rachadura</th>\n",
       "      <th>Infiltr</th>\n",
       "      <th>Área Total ùtil</th>\n",
       "    </tr>\n",
       "  </thead>\n",
       "  <tbody>\n",
       "    <tr>\n",
       "      <th>0</th>\n",
       "      <td>1</td>\n",
       "      <td>A</td>\n",
       "      <td>1</td>\n",
       "      <td>1</td>\n",
       "      <td>27.8</td>\n",
       "      <td>7.9</td>\n",
       "      <td>5.0</td>\n",
       "      <td>11.6</td>\n",
       "      <td>ausente</td>\n",
       "      <td>ausente</td>\n",
       "      <td>52.3</td>\n",
       "    </tr>\n",
       "    <tr>\n",
       "      <th>1</th>\n",
       "      <td>2</td>\n",
       "      <td>A</td>\n",
       "      <td>1</td>\n",
       "      <td>2</td>\n",
       "      <td>28.3</td>\n",
       "      <td>7.3</td>\n",
       "      <td>5.4</td>\n",
       "      <td>13.1</td>\n",
       "      <td>ausente</td>\n",
       "      <td>ausente</td>\n",
       "      <td>54.1</td>\n",
       "    </tr>\n",
       "    <tr>\n",
       "      <th>2</th>\n",
       "      <td>3</td>\n",
       "      <td>A</td>\n",
       "      <td>1</td>\n",
       "      <td>3</td>\n",
       "      <td>27.1</td>\n",
       "      <td>7.1</td>\n",
       "      <td>5.0</td>\n",
       "      <td>14.9</td>\n",
       "      <td>ausente</td>\n",
       "      <td>ausente</td>\n",
       "      <td>54.1</td>\n",
       "    </tr>\n",
       "    <tr>\n",
       "      <th>3</th>\n",
       "      <td>4</td>\n",
       "      <td>A</td>\n",
       "      <td>1</td>\n",
       "      <td>4</td>\n",
       "      <td>26.5</td>\n",
       "      <td>8.4</td>\n",
       "      <td>3.9</td>\n",
       "      <td>12.4</td>\n",
       "      <td>presente</td>\n",
       "      <td>presente</td>\n",
       "      <td>51.2</td>\n",
       "    </tr>\n",
       "    <tr>\n",
       "      <th>4</th>\n",
       "      <td>5</td>\n",
       "      <td>A</td>\n",
       "      <td>2</td>\n",
       "      <td>1</td>\n",
       "      <td>27.7</td>\n",
       "      <td>7.6</td>\n",
       "      <td>4.7</td>\n",
       "      <td>12.1</td>\n",
       "      <td>ausente</td>\n",
       "      <td>ausente</td>\n",
       "      <td>52.1</td>\n",
       "    </tr>\n",
       "    <tr>\n",
       "      <th>...</th>\n",
       "      <td>...</td>\n",
       "      <td>...</td>\n",
       "      <td>...</td>\n",
       "      <td>...</td>\n",
       "      <td>...</td>\n",
       "      <td>...</td>\n",
       "      <td>...</td>\n",
       "      <td>...</td>\n",
       "      <td>...</td>\n",
       "      <td>...</td>\n",
       "      <td>...</td>\n",
       "    </tr>\n",
       "    <tr>\n",
       "      <th>147</th>\n",
       "      <td>148</td>\n",
       "      <td>B</td>\n",
       "      <td>18</td>\n",
       "      <td>4</td>\n",
       "      <td>23.5</td>\n",
       "      <td>7.4</td>\n",
       "      <td>4.3</td>\n",
       "      <td>12.2</td>\n",
       "      <td>ausente</td>\n",
       "      <td>presente</td>\n",
       "      <td>47.4</td>\n",
       "    </tr>\n",
       "    <tr>\n",
       "      <th>148</th>\n",
       "      <td>149</td>\n",
       "      <td>B</td>\n",
       "      <td>19</td>\n",
       "      <td>1</td>\n",
       "      <td>24.1</td>\n",
       "      <td>8.3</td>\n",
       "      <td>4.8</td>\n",
       "      <td>12.9</td>\n",
       "      <td>ausente</td>\n",
       "      <td>ausente</td>\n",
       "      <td>50.1</td>\n",
       "    </tr>\n",
       "    <tr>\n",
       "      <th>149</th>\n",
       "      <td>150</td>\n",
       "      <td>B</td>\n",
       "      <td>19</td>\n",
       "      <td>2</td>\n",
       "      <td>24.1</td>\n",
       "      <td>8.0</td>\n",
       "      <td>4.5</td>\n",
       "      <td>10.9</td>\n",
       "      <td>ausente</td>\n",
       "      <td>ausente</td>\n",
       "      <td>47.5</td>\n",
       "    </tr>\n",
       "    <tr>\n",
       "      <th>150</th>\n",
       "      <td>151</td>\n",
       "      <td>B</td>\n",
       "      <td>19</td>\n",
       "      <td>3</td>\n",
       "      <td>23.0</td>\n",
       "      <td>8.5</td>\n",
       "      <td>4.3</td>\n",
       "      <td>11.7</td>\n",
       "      <td>ausente</td>\n",
       "      <td>presente</td>\n",
       "      <td>47.5</td>\n",
       "    </tr>\n",
       "    <tr>\n",
       "      <th>151</th>\n",
       "      <td>152</td>\n",
       "      <td>B</td>\n",
       "      <td>19</td>\n",
       "      <td>4</td>\n",
       "      <td>22.7</td>\n",
       "      <td>7.8</td>\n",
       "      <td>4.2</td>\n",
       "      <td>15.7</td>\n",
       "      <td>ausente</td>\n",
       "      <td>presente</td>\n",
       "      <td>50.4</td>\n",
       "    </tr>\n",
       "  </tbody>\n",
       "</table>\n",
       "<p>152 rows × 11 columns</p>\n",
       "</div>"
      ],
      "text/plain": [
       "      Id Bloco  Andar  Final  Sala  Cozinha  Banheiro  Dorm Rachadura  \\\n",
       "0      1     A      1      1  27.8      7.9       5.0  11.6   ausente   \n",
       "1      2     A      1      2  28.3      7.3       5.4  13.1   ausente   \n",
       "2      3     A      1      3  27.1      7.1       5.0  14.9   ausente   \n",
       "3      4     A      1      4  26.5      8.4       3.9  12.4  presente   \n",
       "4      5     A      2      1  27.7      7.6       4.7  12.1   ausente   \n",
       "..   ...   ...    ...    ...   ...      ...       ...   ...       ...   \n",
       "147  148     B     18      4  23.5      7.4       4.3  12.2   ausente   \n",
       "148  149     B     19      1  24.1      8.3       4.8  12.9   ausente   \n",
       "149  150     B     19      2  24.1      8.0       4.5  10.9   ausente   \n",
       "150  151     B     19      3  23.0      8.5       4.3  11.7   ausente   \n",
       "151  152     B     19      4  22.7      7.8       4.2  15.7   ausente   \n",
       "\n",
       "      Infiltr  Área Total ùtil  \n",
       "0     ausente             52.3  \n",
       "1     ausente             54.1  \n",
       "2     ausente             54.1  \n",
       "3    presente             51.2  \n",
       "4     ausente             52.1  \n",
       "..        ...              ...  \n",
       "147  presente             47.4  \n",
       "148   ausente             50.1  \n",
       "149   ausente             47.5  \n",
       "150  presente             47.5  \n",
       "151  presente             50.4  \n",
       "\n",
       "[152 rows x 11 columns]"
      ]
     },
     "execution_count": 7,
     "metadata": {},
     "output_type": "execute_result"
    }
   ],
   "source": [
    "areas ['Área Total ùtil'] = areas['Sala'] + areas['Cozinha'] + areas['Banheiro'] + areas['Dorm']\n",
    "areas"
   ]
  },
  {
   "cell_type": "markdown",
   "id": "3a766180-b6ba-4c94-9984-5e539cc63f30",
   "metadata": {
    "id": "3a766180-b6ba-4c94-9984-5e539cc63f30"
   },
   "source": [
    "## 3. Para a área de cada cômodo e para a área útil total (isto é, para as variáveis quantitativas contínuas), faça um histograma."
   ]
  },
  {
   "cell_type": "code",
   "execution_count": 8,
   "id": "cb405d6f-dbc2-44f0-9c7b-f5dc898dd7f9",
   "metadata": {
    "id": "cb405d6f-dbc2-44f0-9c7b-f5dc898dd7f9",
    "tags": []
   },
   "outputs": [],
   "source": [
    "import matplotlib.pyplot as plt"
   ]
  },
  {
   "cell_type": "code",
   "execution_count": 24,
   "id": "03bb30f4-5a62-44f5-b97d-0ff6f0c66fbe",
   "metadata": {
    "id": "03bb30f4-5a62-44f5-b97d-0ff6f0c66fbe",
    "outputId": "5b96013c-8d4b-412f-d0cc-736663e45de9",
    "tags": []
   },
   "outputs": [
    {
     "data": {
      "text/plain": [
       "Text(0, 0.5, 'Sala')"
      ]
     },
     "execution_count": 24,
     "metadata": {},
     "output_type": "execute_result"
    },
    {
     "data": {
      "image/png": "[encoded data removed]",
      "text/plain": [
       "<Figure size 640x480 with 1 Axes>"
      ]
     },
     "metadata": {},
     "output_type": "display_data"
    }
   ],
   "source": [
    "plt.hist(areas['Sala'], bins = 8, edgecolor = \"fuchsia\",color = \"darkolivegreen\")\n",
    "plt.title (\"Distribuição área da Sala\")\n",
    "plt.xlabel(\"Área Útil Total\")\n",
    "plt.ylabel(\"Sala\")"
   ]
  },
  {
   "cell_type": "code",
   "execution_count": 12,
   "id": "c3274580-d700-48ab-b58e-562cbfc5855d",
   "metadata": {
    "id": "c3274580-d700-48ab-b58e-562cbfc5855d",
    "outputId": "80af8fdb-6b5c-4449-fdc9-96160d163e8c",
    "tags": []
   },
   "outputs": [
    {
     "data": {
      "text/plain": [
       "Text(0, 0.5, 'Cozinha')"
      ]
     },
     "execution_count": 12,
     "metadata": {},
     "output_type": "execute_result"
    },
    {
     "data": {
      "image/png": "[encoded data removed]",
      "text/plain": [
       "<Figure size 640x480 with 1 Axes>"
      ]
     },
     "metadata": {},
     "output_type": "display_data"
    }
   ],
   "source": [
    "plt.hist(areas['Cozinha'], bins = 8, edgecolor = \"fuchsia\",color = \"darkolivegreen\")\n",
    "plt.title (\"Distribuição área da Cozinha\")\n",
    "plt.xlabel(\"Área Útil Total\")\n",
    "plt.ylabel(\"Cozinha\")"
   ]
  },
  {
   "cell_type": "code",
   "execution_count": 13,
   "id": "12efabac-7f60-4782-a25a-f20a206efbeb",
   "metadata": {
    "id": "12efabac-7f60-4782-a25a-f20a206efbeb",
    "outputId": "bf836b0c-b173-4061-e2eb-8d353db158a6",
    "tags": []
   },
   "outputs": [
    {
     "data": {
      "text/plain": [
       "Text(0, 0.5, 'Banheiro')"
      ]
     },
     "execution_count": 13,
     "metadata": {},
     "output_type": "execute_result"
    },
    {
     "data": {
      "image/png": "[encoded data removed]",
      "text/plain": [
       "<Figure size 640x480 with 1 Axes>"
      ]
     },
     "metadata": {},
     "output_type": "display_data"
    }
   ],
   "source": [
    "plt.hist(areas['Banheiro'], bins = 8, edgecolor = \"fuchsia\",color = \"darkolivegreen\")\n",
    "plt.title (\"Distribuição área do Banheiro\")\n",
    "plt.xlabel(\"Área Útil Total\")\n",
    "plt.ylabel(\"Banheiro\")"
   ]
  },
  {
   "cell_type": "code",
   "execution_count": 14,
   "id": "c9d41c10-a169-4605-a21c-005a18857608",
   "metadata": {
    "id": "c9d41c10-a169-4605-a21c-005a18857608",
    "outputId": "1d7fc8d4-9c7e-4906-f7ea-6415fe26bc05",
    "tags": []
   },
   "outputs": [
    {
     "data": {
      "text/plain": [
       "Text(0, 0.5, 'Dorm')"
      ]
     },
     "execution_count": 14,
     "metadata": {},
     "output_type": "execute_result"
    },
    {
     "data": {
      "image/png": "[encoded data removed]",
      "text/plain": [
       "<Figure size 640x480 with 1 Axes>"
      ]
     },
     "metadata": {},
     "output_type": "display_data"
    }
   ],
   "source": [
    "plt.hist(areas['Dorm'], bins = 8, edgecolor = \"fuchsia\",color = \"darkolivegreen\")\n",
    "plt.title (\"Distribuição área do Dormitório\")\n",
    "plt.xlabel(\"Área Útil Total\")\n",
    "plt.ylabel(\"Dorm\")"
   ]
  },
  {
   "cell_type": "markdown",
   "id": "16855533-cf53-42a8-bc18-6bea8f947ee2",
   "metadata": {
    "id": "16855533-cf53-42a8-bc18-6bea8f947ee2"
   },
   "source": [
    "# 4) Agora, em separado para o bloco A e o bloco B:"
   ]
  },
  {
   "cell_type": "markdown",
   "id": "9298c3aa-0cc0-4562-9420-baffabc73496",
   "metadata": {
    "id": "9298c3aa-0cc0-4562-9420-baffabc73496",
    "tags": []
   },
   "source": [
    "## a. Calcule a média e o desvio-padrão da área de cada cômodo e também da área total."
   ]
  },
  {
   "cell_type": "code",
   "execution_count": 43,
   "id": "bbca385b-af13-49ef-aa47-f887a3e5ff71",
   "metadata": {
    "tags": []
   },
   "outputs": [
    {
     "data": {
      "text/plain": [
       "Bloco\n",
       "A    28.093421\n",
       "B    23.131579\n",
       "Name: Sala, dtype: float64"
      ]
     },
     "execution_count": 43,
     "metadata": {},
     "output_type": "execute_result"
    }
   ],
   "source": [
    "#Média Sala\n",
    "areas.groupby(['Bloco'])['Sala'].mean()"
   ]
  },
  {
   "cell_type": "code",
   "execution_count": 44,
   "id": "3d2ab675-bffa-4e80-b87c-3f89d342a524",
   "metadata": {
    "tags": []
   },
   "outputs": [
    {
     "data": {
      "text/plain": [
       "Bloco\n",
       "A    7.928947\n",
       "B    7.881579\n",
       "Name: Cozinha, dtype: float64"
      ]
     },
     "execution_count": 44,
     "metadata": {},
     "output_type": "execute_result"
    }
   ],
   "source": [
    "#Média Cozinha\n",
    "areas.groupby(['Bloco'])['Cozinha'].mean()"
   ]
  },
  {
   "cell_type": "code",
   "execution_count": 45,
   "id": "ded30558-3ec9-4cd7-ba6d-2b5c1072543b",
   "metadata": {
    "tags": []
   },
   "outputs": [
    {
     "data": {
      "text/plain": [
       "Bloco\n",
       "A    4.450000\n",
       "B    4.464474\n",
       "Name: Banheiro, dtype: float64"
      ]
     },
     "execution_count": 45,
     "metadata": {},
     "output_type": "execute_result"
    }
   ],
   "source": [
    "#Média Banheiro\n",
    "areas.groupby(['Bloco'])['Banheiro'].mean()"
   ]
  },
  {
   "cell_type": "code",
   "execution_count": 46,
   "id": "c8cea353-e5b1-4dd3-b369-a903302792d4",
   "metadata": {
    "tags": []
   },
   "outputs": [
    {
     "data": {
      "text/plain": [
       "Bloco\n",
       "A    12.950000\n",
       "B    12.928947\n",
       "Name: Dorm, dtype: float64"
      ]
     },
     "execution_count": 46,
     "metadata": {},
     "output_type": "execute_result"
    }
   ],
   "source": [
    "#Média Dormitório\n",
    "areas.groupby(['Bloco'])['Dorm'].mean()"
   ]
  },
  {
   "cell_type": "code",
   "execution_count": 47,
   "id": "9c411f3c-4568-419f-a5c2-0f41e52eca41",
   "metadata": {
    "tags": []
   },
   "outputs": [
    {
     "data": {
      "text/plain": [
       "Bloco\n",
       "A    53.422368\n",
       "B    48.406579\n",
       "Name: Área Total ùtil, dtype: float64"
      ]
     },
     "execution_count": 47,
     "metadata": {},
     "output_type": "execute_result"
    }
   ],
   "source": [
    "#Média Área Total\n",
    "areas.groupby(['Bloco'])['Área Total ùtil'].mean()"
   ]
  },
  {
   "cell_type": "code",
   "execution_count": 48,
   "id": "bb0c2906-f891-4e28-9251-b5184a044d29",
   "metadata": {
    "tags": []
   },
   "outputs": [
    {
     "data": {
      "text/plain": [
       "Bloco\n",
       "A    1.082631\n",
       "B    0.848875\n",
       "Name: Sala, dtype: float64"
      ]
     },
     "execution_count": 48,
     "metadata": {},
     "output_type": "execute_result"
    }
   ],
   "source": [
    "#Desvio Padrão Sala\n",
    "areas.groupby(['Bloco'])['Sala'].std()"
   ]
  },
  {
   "cell_type": "code",
   "execution_count": 49,
   "id": "934d1ea6-6721-4824-8e04-21f1896ab8a9",
   "metadata": {
    "tags": []
   },
   "outputs": [
    {
     "data": {
      "text/plain": [
       "Bloco\n",
       "A    0.465279\n",
       "B    0.604805\n",
       "Name: Cozinha, dtype: float64"
      ]
     },
     "execution_count": 49,
     "metadata": {},
     "output_type": "execute_result"
    }
   ],
   "source": [
    "#Desvio Padrão Cozinha\n",
    "areas.groupby(['Bloco'])['Cozinha'].std()"
   ]
  },
  {
   "cell_type": "code",
   "execution_count": 50,
   "id": "3fd84405-bfae-4125-a903-bc06b5057632",
   "metadata": {
    "tags": []
   },
   "outputs": [
    {
     "data": {
      "text/plain": [
       "Bloco\n",
       "A    0.462313\n",
       "B    0.515805\n",
       "Name: Banheiro, dtype: float64"
      ]
     },
     "execution_count": 50,
     "metadata": {},
     "output_type": "execute_result"
    }
   ],
   "source": [
    "#Desvio Padrão Banheiro\n",
    "areas.groupby(['Bloco'])['Banheiro'].std()"
   ]
  },
  {
   "cell_type": "code",
   "execution_count": 51,
   "id": "036bde33-aeaf-4603-93ce-c66cdce6602a",
   "metadata": {
    "tags": []
   },
   "outputs": [
    {
     "data": {
      "text/plain": [
       "Bloco\n",
       "A    1.172860\n",
       "B    1.176528\n",
       "Name: Dorm, dtype: float64"
      ]
     },
     "execution_count": 51,
     "metadata": {},
     "output_type": "execute_result"
    }
   ],
   "source": [
    "#Desvio Padrão Dormitório\n",
    "areas.groupby(['Bloco'])['Dorm'].std()"
   ]
  },
  {
   "cell_type": "code",
   "execution_count": 52,
   "id": "c3201c51-b5be-4cb2-b244-74a0531bdb9f",
   "metadata": {
    "tags": []
   },
   "outputs": [
    {
     "data": {
      "text/plain": [
       "Bloco\n",
       "A    1.771749\n",
       "B    1.537906\n",
       "Name: Área Total ùtil, dtype: float64"
      ]
     },
     "execution_count": 52,
     "metadata": {},
     "output_type": "execute_result"
    }
   ],
   "source": [
    "#Desvio Padrão Área Total\n",
    "areas.groupby(['Bloco'])['Área Total ùtil'].std()"
   ]
  },
  {
   "cell_type": "markdown",
   "id": "2bac6cb7-5d7a-4bb0-a054-5ef9d69ebbbf",
   "metadata": {
    "id": "2bac6cb7-5d7a-4bb0-a054-5ef9d69ebbbf"
   },
   "source": [
    "## b. Construa boxplots e compare as áreas para cada cômodo considerado."
   ]
  },
  {
   "cell_type": "code",
   "execution_count": 36,
   "id": "e030ae46-b66c-41c7-8525-f09d53031e73",
   "metadata": {
    "tags": []
   },
   "outputs": [],
   "source": [
    "import seaborn as sns"
   ]
  },
  {
   "cell_type": "code",
   "execution_count": 59,
   "id": "6d13ca60-a086-43da-b7c8-965bcd32be35",
   "metadata": {
    "tags": []
   },
   "outputs": [
    {
     "data": {
      "text/plain": [
       "<Axes: xlabel='Bloco', ylabel='Sala'>"
      ]
     },
     "execution_count": 59,
     "metadata": {},
     "output_type": "execute_result"
    },
    {
     "data": {
      "image/png": "[encoded data removed]",
      "text/plain": [
       "<Figure size 640x480 with 1 Axes>"
      ]
     },
     "metadata": {},
     "output_type": "display_data"
    }
   ],
   "source": [
    "sns.boxplot(x = 'Bloco', y = 'Sala', data = areas)"
   ]
  },
  {
   "cell_type": "code",
   "execution_count": 60,
   "id": "a0526b22-1f2d-47f7-8935-ee993ad76ac5",
   "metadata": {
    "tags": []
   },
   "outputs": [
    {
     "data": {
      "text/plain": [
       "<Axes: xlabel='Bloco', ylabel='Cozinha'>"
      ]
     },
     "execution_count": 60,
     "metadata": {},
     "output_type": "execute_result"
    },
    {
     "data": {
      "image/png": "[encoded data removed]",
      "text/plain": [
       "<Figure size 640x480 with 1 Axes>"
      ]
     },
     "metadata": {},
     "output_type": "display_data"
    }
   ],
   "source": [
    "sns.boxplot(x = 'Bloco', y = 'Cozinha', data = areas)"
   ]
  },
  {
   "cell_type": "code",
   "execution_count": 61,
   "id": "d0aa0a4b-618e-4cbe-b200-74f5a9c34c21",
   "metadata": {
    "tags": []
   },
   "outputs": [
    {
     "data": {
      "text/plain": [
       "<Axes: xlabel='Bloco', ylabel='Banheiro'>"
      ]
     },
     "execution_count": 61,
     "metadata": {},
     "output_type": "execute_result"
    },
    {
     "data": {
      "image/png": "[encoded data removed]",
      "text/plain": [
       "<Figure size 640x480 with 1 Axes>"
      ]
     },
     "metadata": {},
     "output_type": "display_data"
    }
   ],
   "source": [
    "sns.boxplot(x = 'Bloco', y = 'Banheiro', data = areas)"
   ]
  },
  {
   "cell_type": "code",
   "execution_count": 62,
   "id": "04723451-b6a8-4768-845c-e2ffaf0670ce",
   "metadata": {
    "tags": []
   },
   "outputs": [
    {
     "data": {
      "text/plain": [
       "<Axes: xlabel='Bloco', ylabel='Dorm'>"
      ]
     },
     "execution_count": 62,
     "metadata": {},
     "output_type": "execute_result"
    },
    {
     "data": {
      "image/png": "[encoded data removed]",
      "text/plain": [
       "<Figure size 640x480 with 1 Axes>"
      ]
     },
     "metadata": {},
     "output_type": "display_data"
    }
   ],
   "source": [
    "sns.boxplot(x = 'Bloco', y = 'Dorm', data = areas)"
   ]
  },
  {
   "cell_type": "markdown",
   "id": "fbd28ddb-6583-4e12-96b4-a99460cbc677",
   "metadata": {
    "id": "fbd28ddb-6583-4e12-96b4-a99460cbc677"
   },
   "source": [
    "## c. Com base em seus achados, você diria que existem diferenças nas áreas dos apartamentos dos blocos A e B? Em caso positivo, qual (is) cômodo (s) apresenta (m) o problema?"
   ]
  },
  {
   "cell_type": "code",
   "execution_count": 64,
   "id": "cac2f73b-e6d1-4061-b1a7-8d8c96707af6",
   "metadata": {
    "tags": []
   },
   "outputs": [],
   "source": [
    "#No geral, os blocos possuem áreas bem semelhantes nos cômodos, porém a a área da Sala possui uma diferença grande entre os blocos A e B \n"
   ]
  }
 ],
 "metadata": {
  "colab": {
   "provenance": []
  },
  "kernelspec": {
   "display_name": "Python 3 (ipykernel)",
   "language": "python",
   "name": "python3"
  },
  "language_info": {
   "codemirror_mode": {
    "name": "ipython",
    "version": 3
   },
   "file_extension": ".py",
   "mimetype": "text/x-python",
   "name": "python",
   "nbconvert_exporter": "python",
   "pygments_lexer": "ipython3",
   "version": "3.11.5"
  }
 },
 "nbformat": 4,
 "nbformat_minor": 5
}
